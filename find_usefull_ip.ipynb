{
  "nbformat": 4,
  "nbformat_minor": 0,
  "metadata": {
    "colab": {
      "name": "find_usefull_ip.ipynb",
      "provenance": [],
      "collapsed_sections": [],
      "authorship_tag": "ABX9TyOkfn0APUcM2z8PKVZKTdAQ",
      "include_colab_link": true
    },
    "kernelspec": {
      "name": "python3",
      "display_name": "Python 3"
    }
  },
  "cells": [
    {
      "cell_type": "markdown",
      "metadata": {
        "id": "view-in-github",
        "colab_type": "text"
      },
      "source": [
        "<a href=\"https://colab.research.google.com/github/gameqube963741/find_usefull_ip/blob/main/find_usefull_ip.ipynb\" target=\"_parent\"><img src=\"https://colab.research.google.com/assets/colab-badge.svg\" alt=\"Open In Colab\"/></a>"
      ]
    },
    {
      "cell_type": "markdown",
      "metadata": {
        "id": "zEUGCWPHya2F"
      },
      "source": [
        "免費 ip\n",
        "\n",
        "https://free-proxy-list.net/"
      ]
    },
    {
      "cell_type": "code",
      "metadata": {
        "id": "kdh96L56_iZd"
      },
      "source": [
        "import requests\n",
        "res = requests.get('https://free-proxy-list.net/')\n",
        "# res.text"
      ],
      "execution_count": 1,
      "outputs": []
    },
    {
      "cell_type": "code",
      "metadata": {
        "id": "BcA-o0uDxdFY"
      },
      "source": [
        "import re\n",
        "m = re.findall('\\d+\\.\\d+\\.\\d+\\.\\d+:\\d+', res.text)"
      ],
      "execution_count": 2,
      "outputs": []
    },
    {
      "cell_type": "markdown",
      "metadata": {
        "id": "XSXp-6gozl5E"
      },
      "source": [
        "ip 測試\n",
        "\n",
        "https://www.ipify.org/"
      ]
    },
    {
      "cell_type": "code",
      "metadata": {
        "id": "5WR8ecpZyuXc",
        "outputId": "9a0cfea0-b5d7-4d28-d5a2-a2a84b70628a",
        "colab": {
          "base_uri": "https://localhost:8080/",
          "height": 187
        }
      },
      "source": [
        "validips = []\n",
        "for ip in m:\n",
        "    try:\n",
        "        res = requests.get('https://api.ipify.org?format=json',proxies = {'http':ip, 'https':ip}, timeout = 5)\n",
        "        validips.append({'ip':ip})\n",
        "        print(res.json())\n",
        "    except:\n",
        "        print('FAIL', ip )"
      ],
      "execution_count": null,
      "outputs": [
        {
          "output_type": "stream",
          "text": [
            "FAIL 124.158.177.171:23500\n",
            "FAIL 190.12.95.170:47029\n",
            "{'ip': '45.128.58.155'}\n",
            "FAIL 78.47.130.42:8080\n",
            "{'ip': '89.107.197.118'}\n",
            "FAIL 45.128.58.118:6666\n",
            "FAIL 1.0.186.49:8080\n",
            "FAIL 113.160.206.37:55138\n",
            "FAIL 41.194.37.106:45381\n",
            "FAIL 217.172.122.2:8080\n"
          ],
          "name": "stdout"
        }
      ]
    },
    {
      "cell_type": "code",
      "metadata": {
        "id": "VljUF40o258_"
      },
      "source": [
        ""
      ],
      "execution_count": null,
      "outputs": []
    }
  ]
}